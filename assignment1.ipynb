{
 "cells": [
  {
   "attachments": {},
   "cell_type": "markdown",
   "metadata": {},
   "source": [
    "# Assignment 1 - 29 January 2023"
   ]
  },
  {
   "attachments": {},
   "cell_type": "markdown",
   "metadata": {},
   "source": [
    "1. Who Develope the Python Programming Language ?\n",
    "\n",
    "A: Python was created by Guido van Rossum, and first released on February 20, 1991."
   ]
  },
  {
   "attachments": {},
   "cell_type": "markdown",
   "metadata": {},
   "source": [
    "2. Which type of programming does python support ?\n",
    "\n",
    "A: Python is a multi-paradigm programming language. Object-oriented programming and structured programming are fully supported, and many of their features support functional programming and aspect-oriented programming."
   ]
  },
  {
   "attachments": {},
   "cell_type": "markdown",
   "metadata": {},
   "source": [
    "3. Is python case sensitive when dealing with identifiers ?\n",
    "\n",
    "A: Yes,Python is a case sensitive language.\n",
    "\n",
    "Int, int are treared as different in python."
   ]
  },
  {
   "attachments": {},
   "cell_type": "markdown",
   "metadata": {},
   "source": [
    "4. What is the correct extension of the python file ?\n",
    "\n",
    "A: The correct extension of the python files id .py\n",
    "\n",
    "Ex: filename.py"
   ]
  },
  {
   "attachments": {},
   "cell_type": "markdown",
   "metadata": {},
   "source": [
    "5. Is python code compiled or interpreted ?\n",
    "\n",
    "A: Python is a interpreted programming language and its code is interpreted."
   ]
  },
  {
   "attachments": {},
   "cell_type": "markdown",
   "metadata": {},
   "source": [
    "6. Name a few blocks of code used to define in Python language ?\n",
    "\n",
    "A: In python Indentation is used to definne the blocks of code, where as in some other programming languages like C and Java curly braces {} are used to define a block of code."
   ]
  },
  {
   "attachments": {},
   "cell_type": "markdown",
   "metadata": {},
   "source": [
    "7. State a character to give single-line comments in Python ?\n",
    "\n",
    "A: The character '#' is used to define a single-line commnets in Python programming language."
   ]
  },
  {
   "attachments": {},
   "cell_type": "markdown",
   "metadata": {},
   "source": [
    "8. Mention functions which can help us to find the version of python that we are currently working on ?\n",
    "\n",
    "A: sys.version is used to find out the version of python that we are currently workig on."
   ]
  },
  {
   "attachments": {},
   "cell_type": "markdown",
   "metadata": {},
   "source": [
    "9. Python supports the creation of ananymous functions at runtime, using a construct called _____ ?\n",
    "\n",
    "A: \"lambda\" construct is used to create a ananymous function at runtime in python."
   ]
  },
  {
   "attachments": {},
   "cell_type": "markdown",
   "metadata": {},
   "source": [
    "10. What does pip stands for in python ?\n",
    "\n",
    "A: pip stands for \"preffered installer program\" in python."
   ]
  },
  {
   "attachments": {},
   "cell_type": "markdown",
   "metadata": {},
   "source": [
    "11. Mention a few built-in functions in Python ?\n",
    "\n",
    "A: Some of the built in functions inpython are \n",
    "\n",
    "abs() :\tReturns the absolute value of a number\n",
    "\n",
    "ascii()\t: Returns a readable version of an object. Replaces none-ascii characters with escape character\n",
    "\n",
    "bin() : Returns the binary version of a number\n",
    "bool()\t: Returns the boolean value of the specified object\n",
    "\n",
    "bytes() : Returns a bytes object\n",
    "\n",
    "chr() : Returns a character from the specified Unicode code.\n",
    "\n",
    "complex() : Returns a complex number\n",
    "\n",
    "dict() : Returns a dictionary (Array)\n",
    "\n",
    "dir() : Returns a list of the specified object's properties and methods\n",
    "\n",
    "enumerate() : Takes a collection (e.g. a tuple) and returns it as an enumerate object\n",
    "\n",
    "eval() : Evaluates and executes an expression\n",
    "\n",
    "filter() : Use a filter function to exclude items in an iterable object\n",
    "\n",
    "float() : Returns a floating point number\n",
    "\n",
    "format() : Formats a specified value\n",
    "\n",
    "frozenset() : Returns a frozenset object\n",
    "\n",
    "globals() : Returns the current global symbol table as a dictionary\n",
    "\n",
    "help() : Executes the built-in help system\n",
    "\n",
    "hex() : Converts a number into a hexadecimal value\n",
    "\n",
    "id() : Returns the id of an object\n",
    "\n",
    "input() : Allowing user input\n",
    "\n",
    "int() : Returns an integer number\n",
    "\n",
    "iter() : Returns an iterator object\n",
    "\n",
    "len() : Returns the length of an object\n",
    "\n",
    "list() : Returns a list\n",
    "\n",
    "locals() : Returns an updated dictionary of the current local symbol table\n",
    "\n",
    "map() : Returns the specified iterator with the specified function applied to each item\n",
    "\n",
    "max() : Returns the largest item in an iterable\n",
    "\n",
    "min() : Returns the smallest item in an iterable\n"
   ]
  },
  {
   "attachments": {},
   "cell_type": "markdown",
   "metadata": {},
   "source": [
    "12. What is the maximum possible length of identifier in python ?\n",
    "\n",
    "A: The maximum possible length of Python identifier is 79 characters."
   ]
  },
  {
   "attachments": {},
   "cell_type": "markdown",
   "metadata": {},
   "source": [
    "13. What are the benefits of using python ?\n",
    "\n",
    "A: Some of the major benefits of using python are :\n",
    "\n",
    "* Open source and free\n",
    "\n",
    "* Easy syntax\n",
    "\n",
    "* Large number of modules available\n",
    "\n",
    "* Object-oriented\n",
    "\n",
    "* User friendly\n",
    "\n",
    "* Huge Support community\n",
    "\n",
    "* Popularly used in many advanced and major areas of application such as AI, ML, ANN etc.."
   ]
  },
  {
   "attachments": {},
   "cell_type": "markdown",
   "metadata": {},
   "source": [
    "14. How is memory managed inPython ?\n",
    "\n",
    "A: Memory management in Python involves a private heap containing all Python objects and data structures. The management of this private heap is ensured internally by the Python memory manager."
   ]
  },
  {
   "attachments": {},
   "cell_type": "markdown",
   "metadata": {},
   "source": [
    "15. How to install python on windows and set path variables ?\n",
    "\n",
    "A: Python can be downloaded form the official website of python.org and run the downloaded python.exe file\n",
    "\n",
    "To add python variables to path, follow the steps:\n",
    "\n",
    "1.Right-clicking This PC and going to Properties.\n",
    "\n",
    "2.Clicking on the Advanced system settings in the menu on the left.\n",
    "\n",
    "3.Clicking on the Environment Variables button o​n the bottom right.\n",
    "\n",
    "4.In the System variables section, selecting the Path variable and clicking on Edit. The next screen will show all the directories that are currently a part of the PATH variable.\n",
    "\n",
    "5.Clicking on New and entering Python’s install directory.\n",
    "\n",
    "Python can now be used directly from the command prompt without having to write its location."
   ]
  },
  {
   "attachments": {},
   "cell_type": "markdown",
   "metadata": {},
   "source": [
    "16. Is indentation required in python ?\n",
    "\n",
    "A: Indentation refers to the spaces at the beginning of a code line. Where in other programming languages the indentation in code is for readability only, the indentation in Python is very important. Python uses indentation to indicate a block of code."
   ]
  }
 ],
 "metadata": {
  "language_info": {
   "name": "python"
  },
  "orig_nbformat": 4
 },
 "nbformat": 4,
 "nbformat_minor": 2
}

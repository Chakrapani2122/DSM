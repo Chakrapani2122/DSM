{
 "cells": [
  {
   "attachments": {},
   "cell_type": "markdown",
   "metadata": {},
   "source": [
    "# Assignment 2 - 30 January 2023"
   ]
  },
  {
   "attachments": {},
   "cell_type": "markdown",
   "metadata": {},
   "source": [
    "1. Write a program to accept percentage from the user and display the grade according to the following criteria:\n",
    "\n",
    "\n",
    "\">90 ----------A\"\n",
    "\n",
    "\">800 and <=90------------B\"\n",
    "\n",
    "\">=60 and <=80----------C\"\n",
    "\n",
    "\"below 60------------D\""
   ]
  },
  {
   "cell_type": "code",
   "execution_count": 1,
   "metadata": {},
   "outputs": [
    {
     "name": "stdout",
     "output_type": "stream",
     "text": [
      "Grade C\n"
     ]
    }
   ],
   "source": [
    "percentage = input(\"Enter your percentage: \")\n",
    "percentage = float(percentage)\n",
    "if percentage >90:\n",
    "    print(\"Grade A\")\n",
    "elif percentage >80 and percentage<=90:\n",
    "    print(\"Grade B\")\n",
    "elif percentage >60 and percentage<=80:\n",
    "    print(\"Grade C\")\n",
    "else :\n",
    "    print(\"Grade D\")"
   ]
  },
  {
   "attachments": {},
   "cell_type": "markdown",
   "metadata": {},
   "source": [
    "2. Write a program to accept the cost price of the bike and display the raos tax to be paid according to the following criteria:\n",
    "\n",
    "15% ............. >100000\n",
    "\n",
    "10% ..............>50000 and <=100000\n",
    "\n",
    "5% ...............<= 50000"
   ]
  },
  {
   "cell_type": "code",
   "execution_count": 2,
   "metadata": {},
   "outputs": [
    {
     "name": "stdout",
     "output_type": "stream",
     "text": [
      "You have to pay 5% tax\n",
      "Tax amount is: 532.65\n",
      "Total cost is: 11185.65\n"
     ]
    }
   ],
   "source": [
    "bike_cost = int(input(\"Enter the bike cost:\"))\n",
    "total_cost = bike_cost\n",
    "if bike_cost > 100000:\n",
    "    print(\"You have to pay 15% tax\")\n",
    "    tax = bike_cost * 15/100\n",
    "    print(\"Tax amount is:\",tax)\n",
    "    total_cost = bike_cost + tax\n",
    "elif bike_cost > 50000 and bike_cost <= 100000:\n",
    "    print(\"You have to pay 10% tax\")\n",
    "    tax = bike_cost * 10/100\n",
    "    print(\"Tax amount is:\",tax)\n",
    "    total_cost = bike_cost + tax\n",
    "elif bike_cost <50000:\n",
    "    print(\"You have to pay 5% tax\")\n",
    "    tax = bike_cost * 5/100\n",
    "    print(\"Tax amount is:\",tax)\n",
    "    total_cost = bike_cost + tax\n",
    "\n",
    "print(\"Total cost is:\", total_cost)"
   ]
  },
  {
   "attachments": {},
   "cell_type": "markdown",
   "metadata": {},
   "source": [
    "3. Accept any city from the user and display monuments of that city.\n",
    "\n",
    "Delhi ---------------> Red Fort\n",
    "\n",
    "Agra ----------------> Taj Mahal\n",
    "\n",
    "Jaipur --------------> Jal Mahal"
   ]
  },
  {
   "cell_type": "code",
   "execution_count": 4,
   "metadata": {},
   "outputs": [
    {
     "name": "stdout",
     "output_type": "stream",
     "text": [
      "List of cities\n",
      "1. Delhi\n",
      "2.Agra\n",
      "3.jaipur\n",
      "Monument in Jaipur is jal Mahal\n"
     ]
    }
   ],
   "source": [
    "print(\"List of cities\\n1. Delhi\\n2.Agra\\n3.jaipur\")\n",
    "city = input(\"Enter your city name:\")\n",
    "if city == \"Delhi\":\n",
    "    print(\"Monument in Delhi is Red Fort\")\n",
    "elif city == \"Agra\":\n",
    "    print(\"Monument in Agra is Taj Mahal\")\n",
    "elif city == \"Jaipur\":\n",
    "    print(\"Monument in Jaipur is jal Mahal\")\n"
   ]
  },
  {
   "attachments": {},
   "cell_type": "markdown",
   "metadata": {},
   "source": [
    "4. check how many times a given number can be divided by three before it is less than or equal to 10.\n",
    "\n"
   ]
  },
  {
   "cell_type": "code",
   "execution_count": 4,
   "metadata": {},
   "outputs": [
    {
     "name": "stdout",
     "output_type": "stream",
     "text": [
      "Total number of times the number divided by 3 before it is less than or equal to 10 is : 18\n"
     ]
    }
   ],
   "source": [
    "number = int(input(\"Enter a number:\"))\n",
    "count = 0\n",
    "while number > 10:\n",
    "    if number % 3 ==0:\n",
    "        count +=1\n",
    "    number -=1\n",
    "print(\"Total number of times the number divided by 3 before it is less than or equal to 10 is :\",count)"
   ]
  },
  {
   "attachments": {},
   "cell_type": "markdown",
   "metadata": {},
   "source": [
    "5. Why and When to use while loop in python give a detailed description with example.\n",
    "\n",
    "A: While loop can be used to iterate until the condition is true and we dont know exactly how many times to iterate through."
   ]
  },
  {
   "cell_type": "code",
   "execution_count": 5,
   "metadata": {},
   "outputs": [
    {
     "name": "stdout",
     "output_type": "stream",
     "text": [
      "100\n",
      "90\n",
      "80\n",
      "70\n",
      "60\n",
      "50\n",
      "40\n",
      "30\n",
      "20\n",
      "10\n"
     ]
    }
   ],
   "source": [
    "n = 100\n",
    "while n%10==0:\n",
    "    print(n)\n",
    "    n = n-10\n",
    "    if n==0:\n",
    "        break\n",
    "\n"
   ]
  },
  {
   "attachments": {},
   "cell_type": "markdown",
   "metadata": {},
   "source": [
    "In the above example we doesn't know how many times to iterate, but we know the condition to be met to break the loop."
   ]
  },
  {
   "attachments": {},
   "cell_type": "markdown",
   "metadata": {},
   "source": [
    "6. Use nested while loops to oprint 3 different patterns.\n",
    "\n",
    "A: 1.Triangle"
   ]
  },
  {
   "cell_type": "code",
   "execution_count": 6,
   "metadata": {},
   "outputs": [
    {
     "name": "stdout",
     "output_type": "stream",
     "text": [
      "*\n",
      "**\n",
      "***\n",
      "****\n",
      "*****\n"
     ]
    }
   ],
   "source": [
    "n = 5\n",
    "i = 1\n",
    "while i <= n:\n",
    "    j = 1\n",
    "    while j <= i:\n",
    "        print(\"*\", end=\"\")\n",
    "        j = j + 1\n",
    "    print(\"\")\n",
    "    i = i + 1\n"
   ]
  },
  {
   "cell_type": "markdown",
   "metadata": {},
   "source": [
    "2. Square"
   ]
  },
  {
   "cell_type": "code",
   "execution_count": 7,
   "metadata": {},
   "outputs": [
    {
     "name": "stdout",
     "output_type": "stream",
     "text": [
      "*****\n",
      "*****\n",
      "*****\n",
      "*****\n",
      "*****\n"
     ]
    }
   ],
   "source": [
    "n = 5\n",
    "i = 1\n",
    "while i <= n:\n",
    "    j = 1\n",
    "    while j <= n:\n",
    "        print(\"*\", end=\"\")\n",
    "        j = j + 1\n",
    "    print(\"\")\n",
    "    i = i + 1\n"
   ]
  },
  {
   "attachments": {},
   "cell_type": "markdown",
   "metadata": {},
   "source": [
    "3. Diamond"
   ]
  },
  {
   "cell_type": "code",
   "execution_count": 8,
   "metadata": {},
   "outputs": [
    {
     "name": "stdout",
     "output_type": "stream",
     "text": [
      "    *\n",
      "   **\n",
      "  ***\n",
      " ****\n",
      "*****\n",
      " ****\n",
      "  ***\n",
      "   **\n",
      "    *\n"
     ]
    }
   ],
   "source": [
    "n = 5\n",
    "i = 1\n",
    "while i <= n:\n",
    "    spaces = n - i\n",
    "    j = 1\n",
    "    while j <= spaces:\n",
    "        print(\" \", end=\"\")\n",
    "        j = j + 1\n",
    "    k = 1\n",
    "    while k <= i:\n",
    "        print(\"*\", end=\"\")\n",
    "        k = k + 1\n",
    "    print(\"\")\n",
    "    i = i + 1\n",
    "\n",
    "i = n - 1\n",
    "while i >= 1:\n",
    "    spaces = n - i\n",
    "    j = 1\n",
    "    while j <= spaces:\n",
    "        print(\" \", end=\"\")\n",
    "        j = j + 1\n",
    "    k = 1\n",
    "    while k <= i:\n",
    "        print(\"*\", end=\"\")\n",
    "        k = k + 1\n",
    "    print(\"\")\n",
    "    i = i - 1\n"
   ]
  },
  {
   "attachments": {},
   "cell_type": "markdown",
   "metadata": {},
   "source": [
    "7. Reverse a while loop to display numbers form 10 to 1."
   ]
  },
  {
   "cell_type": "code",
   "execution_count": 9,
   "metadata": {},
   "outputs": [
    {
     "name": "stdout",
     "output_type": "stream",
     "text": [
      "[1, 2, 3, 4, 5, 6, 7, 8, 9, 10]\n",
      "[10, 9, 8, 7, 6, 5, 4, 3, 2, 1]\n"
     ]
    }
   ],
   "source": [
    "numbers = [x for x in range(1,11)]\n",
    "reverse_numbers = []\n",
    "print(numbers)\n",
    "i=9\n",
    "while numbers[i]<=10:\n",
    "    reverse_numbers.append(numbers[i])\n",
    "    i = i - 1\n",
    "    if i<0:\n",
    "        break\n",
    "\n",
    "print(reverse_numbers)\n"
   ]
  },
  {
   "attachments": {},
   "cell_type": "markdown",
   "metadata": {},
   "source": [
    "8. Reverse a while loop to display numbers form 10 to 1."
   ]
  },
  {
   "cell_type": "code",
   "execution_count": 10,
   "metadata": {},
   "outputs": [
    {
     "name": "stdout",
     "output_type": "stream",
     "text": [
      "[1, 2, 3, 4, 5, 6, 7, 8, 9, 10]\n",
      "[10, 9, 8, 7, 6, 5, 4, 3, 2, 1]\n"
     ]
    }
   ],
   "source": [
    "numbers = [x for x in range(1,11)]\n",
    "reverse_numbers = []\n",
    "print(numbers)\n",
    "i=9\n",
    "while numbers[i]<=10:\n",
    "    reverse_numbers.append(numbers[i])\n",
    "    i = i - 1\n",
    "    if i<0:\n",
    "        break\n",
    "\n",
    "print(reverse_numbers)\n"
   ]
  }
 ],
 "metadata": {
  "kernelspec": {
   "display_name": "Python 3",
   "language": "python",
   "name": "python3"
  },
  "language_info": {
   "codemirror_mode": {
    "name": "ipython",
    "version": 3
   },
   "file_extension": ".py",
   "mimetype": "text/x-python",
   "name": "python",
   "nbconvert_exporter": "python",
   "pygments_lexer": "ipython3",
   "version": "3.11.1"
  },
  "orig_nbformat": 4,
  "vscode": {
   "interpreter": {
    "hash": "e7aba35dad5dc553defda1349d40f5e2e12c17fc89107d57477e3ec5f88d3444"
   }
  }
 },
 "nbformat": 4,
 "nbformat_minor": 2
}

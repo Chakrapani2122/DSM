{
 "cells": [
  {
   "attachments": {},
   "cell_type": "markdown",
   "metadata": {},
   "source": [
    "# Assignment Feb 03 2023"
   ]
  },
  {
   "attachments": {},
   "cell_type": "markdown",
   "metadata": {},
   "source": [
    "1.  Which keyword is used to create a function? Create a function to return a list of odd numbers in the range of 1 to 25.\n",
    "\n",
    "A: The keyword 'def' is used to create a function in python."
   ]
  },
  {
   "cell_type": "code",
   "execution_count": 1,
   "metadata": {},
   "outputs": [
    {
     "data": {
      "text/plain": [
       "[1, 3, 5, 7, 9, 11, 13, 15, 17, 19, 21, 23, 25]"
      ]
     },
     "execution_count": 1,
     "metadata": {},
     "output_type": "execute_result"
    }
   ],
   "source": [
    "def odd():\n",
    "    odd=[]\n",
    "    for i in range(1,26):\n",
    "        if i%2!=0:\n",
    "            odd.append(i)\n",
    "    return odd\n",
    "\n",
    "odd()"
   ]
  },
  {
   "attachments": {},
   "cell_type": "markdown",
   "metadata": {},
   "source": [
    "2.  Why *args and **kwargs is used in some functions? Create a function each for *args and **kwargs to demonstrate their use.\n",
    "\n",
    "A:  *args in python is used in the function declaration to pass variable number of arguments to the function i.e, non-keyworded.\n",
    "\n",
    "**kwargs in python functions are used to pass key-worded variable length argument list to the function."
   ]
  },
  {
   "cell_type": "code",
   "execution_count": 2,
   "metadata": {},
   "outputs": [
    {
     "name": "stdout",
     "output_type": "stream",
     "text": [
      "Hello\n",
      "python\n",
      "community\n"
     ]
    }
   ],
   "source": [
    "def arg(*args):\n",
    "    for argi in args:\n",
    "        print(argi)\n",
    "\n",
    "arg(\"Hello\", \"python\", \"community\")"
   ]
  },
  {
   "cell_type": "code",
   "execution_count": 3,
   "metadata": {},
   "outputs": [
    {
     "name": "stdout",
     "output_type": "stream",
     "text": [
      "institution : pwskills \n",
      "\n",
      "course : DSM \n",
      "\n",
      "duration : 7-8 months \n",
      "\n"
     ]
    }
   ],
   "source": [
    "def kwarg(**kwargs):\n",
    "    for i, j in kwargs.items():\n",
    "        print(i,\":\",j,\"\\n\")\n",
    "\n",
    "\n",
    "kwarg(institution='pwskills', course=\"DSM\", duration=\"7-8 months\")"
   ]
  },
  {
   "attachments": {},
   "cell_type": "markdown",
   "metadata": {},
   "source": [
    "3. What is an iterator in python? Name the method used to initialise the iterator object and the method used for iteration. Use these methods to print the first five elements of the given list [2, 4, 6, 8, 10, 12, 14, 16, 18, 20].\n",
    "\n",
    "A: Iterator in python is a class which provides the facility to iterate through a iterable object.\n",
    "\n",
    "The method `next()` is used to access the next element in the object.\n",
    "\n",
    "The method `iter()` is used to initialize the iterator."
   ]
  },
  {
   "cell_type": "code",
   "execution_count": 5,
   "metadata": {},
   "outputs": [
    {
     "name": "stdout",
     "output_type": "stream",
     "text": [
      "2\n",
      "4\n",
      "6\n",
      "8\n",
      "10\n"
     ]
    }
   ],
   "source": [
    "l = [2, 4, 6, 8, 10, 12, 14, 16, 18, 20]\n",
    "l_iterator = iter(l)\n",
    "for i in range(0,5):\n",
    "    print(next(l_iterator))"
   ]
  },
  {
   "attachments": {},
   "cell_type": "markdown",
   "metadata": {},
   "source": [
    "4. What is a generator function in python? Why yield keyword is used? Give an example of a generator function.\n",
    "\n",
    "A: Generator function in python are the functions that are used to generate the values without using return statement. It looks same as the normal python function and contaions the `yield` keyword in the function body.\n",
    "\n",
    "`yield` keyword generates the required value in the generator function."
   ]
  },
  {
   "cell_type": "code",
   "execution_count": 6,
   "metadata": {},
   "outputs": [
    {
     "name": "stdout",
     "output_type": "stream",
     "text": [
      "2\n",
      "4\n",
      "6\n",
      "8\n",
      "10\n"
     ]
    }
   ],
   "source": [
    "def Generator():\n",
    "    yield 2\n",
    "    yield 4\n",
    "    yield 6\n",
    "    yield 8\n",
    "    yield 10\n",
    "for i in Generator():\n",
    "    print(i)"
   ]
  },
  {
   "attachments": {},
   "cell_type": "markdown",
   "metadata": {},
   "source": [
    "5. Create a generator function for prime numbers less than 1000. Use the next() method to print the first 20 prime numbers.\n",
    "\n",
    "A:"
   ]
  },
  {
   "cell_type": "code",
   "execution_count": 20,
   "metadata": {},
   "outputs": [
    {
     "name": "stdout",
     "output_type": "stream",
     "text": [
      "2\n",
      "3\n",
      "5\n",
      "7\n",
      "11\n",
      "13\n",
      "17\n",
      "19\n",
      "23\n",
      "29\n",
      "31\n",
      "37\n",
      "41\n",
      "43\n",
      "47\n",
      "53\n",
      "59\n",
      "61\n",
      "67\n",
      "71\n"
     ]
    }
   ],
   "source": [
    "def getPrimes(n):\n",
    "    if n <= 2:\n",
    "        raise StopIteration\n",
    "    yield 2\n",
    "    for i in range(3, n, 2):\n",
    "        for x in range(3, int(i**0.5)+2, 2):\n",
    "            if not i % x:\n",
    "                break\n",
    "        else:\n",
    "            yield i\n",
    "\n",
    "count=0\n",
    "for i in getPrimes(1000):\n",
    "    if count<20:\n",
    "        print(i)\n",
    "        count+=1\n",
    "    else:\n",
    "        break"
   ]
  }
 ],
 "metadata": {
  "kernelspec": {
   "display_name": "Python 3",
   "language": "python",
   "name": "python3"
  },
  "language_info": {
   "codemirror_mode": {
    "name": "ipython",
    "version": 3
   },
   "file_extension": ".py",
   "mimetype": "text/x-python",
   "name": "python",
   "nbconvert_exporter": "python",
   "pygments_lexer": "ipython3",
   "version": "3.11.2"
  },
  "orig_nbformat": 4,
  "vscode": {
   "interpreter": {
    "hash": "e7aba35dad5dc553defda1349d40f5e2e12c17fc89107d57477e3ec5f88d3444"
   }
  }
 },
 "nbformat": 4,
 "nbformat_minor": 2
}

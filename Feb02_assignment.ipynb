{
 "cells": [
  {
   "attachments": {},
   "cell_type": "markdown",
   "metadata": {},
   "source": [
    "# Assignment Feb 02 2023."
   ]
  },
  {
   "attachments": {},
   "cell_type": "markdown",
   "metadata": {},
   "source": [
    "1. What are the characteristics of Tuple ? Is tuple immutable ?\n",
    "\n",
    "A:Tuples are an ordered collection of elements of different data types. We represent them by writing the elements inside the parenthesis separated by commas. We can also define tuples as lists that we cannot change. Therefore, we can call them immutable tuples."
   ]
  },
  {
   "attachments": {},
   "cell_type": "markdown",
   "metadata": {},
   "source": [
    "2. What are the two tuple methods in python ? Give an example of each method. Give a reason why tuples have only two built-in methods as compared to Lists?\n",
    "\n",
    "A:The two built-in methods of Tuple are:\n",
    "\n",
    "Python Tuple count() : returns count of the element in the tuple.\n",
    "\n",
    "Python Tuple index() : returns the index of the element in the tuple."
   ]
  },
  {
   "cell_type": "code",
   "execution_count": 1,
   "metadata": {},
   "outputs": [
    {
     "name": "stdout",
     "output_type": "stream",
     "text": [
      "Count of 3 in Tuple1 is: 3\n",
      "First occurrence of 3 is 3\n",
      "First occurrence of 3 after 4th index is: 5\n"
     ]
    }
   ],
   "source": [
    "\n",
    "Tuple1 = (0, 1, 2, 3, 2, 3, 1, 3, 2)\n",
    "\n",
    "count_result = Tuple1.count(3)\n",
    "print('Count of 3 in Tuple1 is:', count_result)\n",
    "\n",
    "index_result1 = Tuple1.index(3)\n",
    "print('First occurrence of 3 is', index_result1)\n",
    "index_result2 = Tuple1.index(3, 4)\n",
    "print('First occurrence of 3 after 4th index is:', index_result2)"
   ]
  },
  {
   "attachments": {},
   "cell_type": "markdown",
   "metadata": {},
   "source": [
    "3. Which collection datatypes in python do not allow duplicate items ? Write a code using a set to remove duplicates from the given list.\n",
    "\n",
    "A: A set is datatype in Python which does not allow duplicates."
   ]
  },
  {
   "cell_type": "code",
   "execution_count": 2,
   "metadata": {},
   "outputs": [
    {
     "name": "stdout",
     "output_type": "stream",
     "text": [
      "Original List:  [1, 2, 4, 2, 1, 4, 5]\n",
      "List after removing duplicate elements:  {1, 2, 4, 5}\n"
     ]
    }
   ],
   "source": [
    "l = [1, 2, 4, 2, 1, 4, 5]\n",
    "print(\"Original List: \", l)\n",
    "result = set(l)\n",
    "print(\"List after removing duplicate elements: \", result)"
   ]
  },
  {
   "attachments": {},
   "cell_type": "markdown",
   "metadata": {},
   "source": [
    "Q4. Explain the difference between the union() and update() methods for a set. Give an example of each method.\n",
    "\n",
    "A:Both union() and update() methods are used to combine two sets, however, they differ in how they handle duplicate elements in the sets.\n",
    "\n",
    "The union() method returns a set that contains all elements from both sets but eliminates any duplicates. It does not modify either of the original sets.\n",
    "\n",
    "The update() method inserts all elements from one set into another set, effectively combining the two sets. It eliminates any duplicates and updates the original set."
   ]
  },
  {
   "cell_type": "code",
   "execution_count": 3,
   "metadata": {},
   "outputs": [
    {
     "name": "stdout",
     "output_type": "stream",
     "text": [
      "{1, 2, 3, 4, 5}\n",
      "{1, 2, 3, 4, 5}\n"
     ]
    }
   ],
   "source": [
    "set1 = {1, 2, 3}\n",
    "set2 = {3, 4, 5}\n",
    "\n",
    "set3 = set1.union(set2)\n",
    "print(set3)\n",
    "\n",
    "set1.update(set2)\n",
    "print(set1)\n"
   ]
  },
  {
   "attachments": {},
   "cell_type": "markdown",
   "metadata": {},
   "source": [
    "5. What is a dictionary? Give an example. Also, state whether a dictionary is ordered or unordered.\n",
    "\n",
    "A: What is a dictionary give an example?\n",
    "The dictionary is an unordered collection that contains key:value pairs separated by commas inside curly brackets. Dictionaries are optimized to retrieve values when the key is known."
   ]
  },
  {
   "cell_type": "code",
   "execution_count": 4,
   "metadata": {},
   "outputs": [
    {
     "data": {
      "text/plain": [
       "'New Delhi'"
      ]
     },
     "execution_count": 4,
     "metadata": {},
     "output_type": "execute_result"
    }
   ],
   "source": [
    "capitals = {\"USA\":\"Washington D.C.\", \"France\":\"Paris\", \"India\":\"New Delhi\"}\n",
    "capitals[\"India\"]"
   ]
  },
  {
   "attachments": {},
   "cell_type": "markdown",
   "metadata": {},
   "source": [
    "6. Can we create a nested dictionary? If so, please give an example by creating a simple one-level nested dictionary.\n",
    "\n",
    "A:A nested dictionary contains an unordered collection of various dictionaries. Compared with a normal dictionary, it also contains the key and its value pairs. We can access the dictionary using its key. A Nested dictionary can be created in Python by placing the comma-separated dictionaries enclosed within braces."
   ]
  },
  {
   "cell_type": "code",
   "execution_count": 5,
   "metadata": {},
   "outputs": [
    {
     "name": "stdout",
     "output_type": "stream",
     "text": [
      "Nested dictionary  : \n",
      "{'Dict1': {'name': 'Ali', 'age': '19'}, 'Dict2': {'name': 'Bob', 'age': '25'}}\n"
     ]
    }
   ],
   "source": [
    "Dict = { 'Dict1': {'name': 'Ali', 'age': '19'},\n",
    "         'Dict2': {'name': 'Bob', 'age': '25'}}\n",
    "print(\"Nested dictionary  : \")\n",
    "print(Dict)"
   ]
  },
  {
   "attachments": {},
   "cell_type": "markdown",
   "metadata": {},
   "source": [
    "7. Using setdefault() method, create key named topics in the given dictionary and also add the value of the key as this list \n",
    "\n",
    "['Python', 'Machine Learning’, 'Deep Learning'].\n",
    "\n",
    "dict1 = {'language' : 'Python', 'course': 'Data Science Masters'}\n",
    "\n",
    "A:"
   ]
  },
  {
   "cell_type": "code",
   "execution_count": 6,
   "metadata": {},
   "outputs": [
    {
     "name": "stdout",
     "output_type": "stream",
     "text": [
      "{'language': 'Python', 'course': 'Data Science Masters', 'topics': ['Python', 'Machine Learning', 'Deep Learning']}\n"
     ]
    }
   ],
   "source": [
    "dict1 = {'language' : 'Python', 'course': 'Data Science Masters'}\n",
    "\n",
    "topics_list = ['Python', 'Machine Learning', 'Deep Learning']\n",
    "\n",
    "dict1.setdefault('topics', []).extend(topics_list)\n",
    "\n",
    "print(dict1)"
   ]
  },
  {
   "attachments": {},
   "cell_type": "markdown",
   "metadata": {},
   "source": [
    "8. What are the three view objects in dictionaries? Use the three in-built methods in python to display these three view objects for the given dictionary.\n",
    "\n",
    "dict1 = {'Sport': 'Cricket' , 'Teams': ['India', 'Australia', 'England', 'South Africa', 'Sri Lanka', 'New Zealand']}\n",
    "\n",
    "A: There are three view objects in dictionaries: keys(), values(), and items().\n",
    "\n",
    "The keys() view object displays a dynamic view of the dictionary's keys.\n",
    "\n",
    "The values() view object displays a dynamic view of the dictionary's values.\n",
    "\n",
    "The items() view object displays a dynamic view of the dictionary's key-value pairs.\n"
   ]
  },
  {
   "cell_type": "code",
   "execution_count": 7,
   "metadata": {},
   "outputs": [
    {
     "name": "stdout",
     "output_type": "stream",
     "text": [
      "dict_keys(['Sport', 'Teams'])\n",
      "dict_values(['Cricket', ['India', 'Australia', 'England', 'South Africa', 'Sri Lanka', 'New Zealand']])\n",
      "dict_items([('Sport', 'Cricket'), ('Teams', ['India', 'Australia', 'England', 'South Africa', 'Sri Lanka', 'New Zealand'])])\n"
     ]
    }
   ],
   "source": [
    "dict1 = {'Sport': 'Cricket' , 'Teams': ['India', 'Australia', 'England', 'South Africa', 'Sri Lanka', 'New Zealand']}\n",
    "print(dict1.keys())\n",
    "print(dict1.values())\n",
    "print(dict1.items())"
   ]
  }
 ],
 "metadata": {
  "kernelspec": {
   "display_name": "Python 3",
   "language": "python",
   "name": "python3"
  },
  "language_info": {
   "codemirror_mode": {
    "name": "ipython",
    "version": 3
   },
   "file_extension": ".py",
   "mimetype": "text/x-python",
   "name": "python",
   "nbconvert_exporter": "python",
   "pygments_lexer": "ipython3",
   "version": "3.11.1"
  },
  "orig_nbformat": 4,
  "vscode": {
   "interpreter": {
    "hash": "e7aba35dad5dc553defda1349d40f5e2e12c17fc89107d57477e3ec5f88d3444"
   }
  }
 },
 "nbformat": 4,
 "nbformat_minor": 2
}
